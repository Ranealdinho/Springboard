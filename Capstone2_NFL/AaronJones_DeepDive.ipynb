{
 "cells": [
  {
   "cell_type": "code",
   "execution_count": 3,
   "metadata": {},
   "outputs": [],
   "source": [
    "#upload necessary dependencies\n",
    "import pandas as pd\n",
    "import numpy as np\n",
    "import matplotlib.pyplot as plt\n",
    "import seaborn as sns\n",
    "from scipy.ndimage.filters import gaussian_filter1d\n",
    "import os\n",
    "import time\n",
    "import random\n",
    "import glob\n",
    "import json\n",
    "from scipy import stats\n",
    "os.chdir('/Users/ranen/OneDrive/Desktop/NFL')"
   ]
  },
  {
   "cell_type": "code",
   "execution_count": 7,
   "metadata": {},
   "outputs": [],
   "source": [
    "WEEKLY_BASE_URL = 'weekly/2019/week{}.csv'\n",
    "YEARLY_BASE_URL = 'yearly/2019.csv'"
   ]
  },
  {
   "cell_type": "code",
   "execution_count": 9,
   "metadata": {},
   "outputs": [],
   "source": [
    "def generate_df():\n",
    "    df = pd.DataFrame()\n",
    "    for week in range(1, 18):\n",
    "        weekly_df = pd.read_csv(WEEKLY_BASE_URL.format(week))\n",
    "        weekly_df['Week'] = week\n",
    "        df = pd.concat([df, weekly_df])\n",
    "    return df\n",
    "\n",
    "df = generate_df()"
   ]
  },
  {
   "cell_type": "code",
   "execution_count": 19,
   "metadata": {},
   "outputs": [
    {
     "data": {
      "text/plain": [
       "Player\n",
       "Christian McCaffrey    411.2\n",
       "Aaron Jones            290.3\n",
       "Derrick Henry          285.6\n",
       "Ezekiel Elliott        284.7\n",
       "Dalvin Cook            265.9\n",
       "Name: HalfPPRFantasyPoints, dtype: float64"
      ]
     },
     "execution_count": 19,
     "metadata": {},
     "output_type": "execute_result"
    }
   ],
   "source": [
    "df.loc[df['Pos'] == 'RB'].groupby('Player')['HalfPPRFantasyPoints'].sum().sort_values(ascending=False).head()\n"
   ]
  },
  {
   "cell_type": "code",
   "execution_count": 17,
   "metadata": {},
   "outputs": [
    {
     "data": {
      "text/html": [
       "<div>\n",
       "<style scoped>\n",
       "    .dataframe tbody tr th:only-of-type {\n",
       "        vertical-align: middle;\n",
       "    }\n",
       "\n",
       "    .dataframe tbody tr th {\n",
       "        vertical-align: top;\n",
       "    }\n",
       "\n",
       "    .dataframe thead th {\n",
       "        text-align: right;\n",
       "    }\n",
       "</style>\n",
       "<table border=\"1\" class=\"dataframe\">\n",
       "  <thead>\n",
       "    <tr style=\"text-align: right;\">\n",
       "      <th></th>\n",
       "      <th>Pos</th>\n",
       "      <th>count</th>\n",
       "      <th>mean</th>\n",
       "      <th>std</th>\n",
       "      <th>min</th>\n",
       "      <th>25%</th>\n",
       "      <th>50%</th>\n",
       "      <th>75%</th>\n",
       "      <th>max</th>\n",
       "    </tr>\n",
       "  </thead>\n",
       "  <tbody>\n",
       "    <tr>\n",
       "      <th>23</th>\n",
       "      <td>RB</td>\n",
       "      <td>1234.0</td>\n",
       "      <td>8.405057</td>\n",
       "      <td>7.819627</td>\n",
       "      <td>-2.0</td>\n",
       "      <td>2.3</td>\n",
       "      <td>6.35</td>\n",
       "      <td>12.0</td>\n",
       "      <td>45.7</td>\n",
       "    </tr>\n",
       "    <tr>\n",
       "      <th>28</th>\n",
       "      <td>WR</td>\n",
       "      <td>1801.0</td>\n",
       "      <td>7.859489</td>\n",
       "      <td>6.974060</td>\n",
       "      <td>-2.0</td>\n",
       "      <td>2.6</td>\n",
       "      <td>5.90</td>\n",
       "      <td>11.4</td>\n",
       "      <td>46.7</td>\n",
       "    </tr>\n",
       "  </tbody>\n",
       "</table>\n",
       "</div>"
      ],
      "text/plain": [
       "   Pos   count      mean       std  min  25%   50%   75%   max\n",
       "23  RB  1234.0  8.405057  7.819627 -2.0  2.3  6.35  12.0  45.7\n",
       "28  WR  1801.0  7.859489  6.974060 -2.0  2.6  5.90  11.4  46.7"
      ]
     },
     "execution_count": 17,
     "metadata": {},
     "output_type": "execute_result"
    }
   ],
   "source": [
    "df2019 = df.groupby('Pos')['HalfPPRFantasyPoints'].describe().reset_index()\n",
    "#grab WR too for fun\n",
    "df2019[(df2019['Pos'] == 'RB') | (df2019['Pos'] == 'WR')]"
   ]
  }
 ],
 "metadata": {
  "kernelspec": {
   "display_name": "Python 3",
   "language": "python",
   "name": "python3"
  },
  "language_info": {
   "codemirror_mode": {
    "name": "ipython",
    "version": 3
   },
   "file_extension": ".py",
   "mimetype": "text/x-python",
   "name": "python",
   "nbconvert_exporter": "python",
   "pygments_lexer": "ipython3",
   "version": "3.8.5"
  }
 },
 "nbformat": 4,
 "nbformat_minor": 4
}
